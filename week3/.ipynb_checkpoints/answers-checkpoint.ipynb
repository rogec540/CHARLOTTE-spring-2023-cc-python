{
 "cells": [
  {
   "cell_type": "code",
   "execution_count": null,
   "metadata": {},
   "outputs": [],
   "source": [
    "# 1) What is the output of the following code and why? \n",
    "\n",
    "# var1 = 1\n",
    "# var2 = 2\n",
    "# var3 = \"3\"\n",
    "\n",
    "# print(var1 + var2 + var3)\n",
    "\n",
    "# a) 6 \n",
    "# b) 33 \n",
    "# c) 3 + 3 \n",
    "# d) Error "
   ]
  },
  {
   "cell_type": "code",
   "execution_count": null,
   "metadata": {},
   "outputs": [],
   "source": [
    "#Answer: d) Error. Mixing operators between numbers and strings are not supported"
   ]
  },
  {
   "cell_type": "code",
   "execution_count": null,
   "metadata": {},
   "outputs": [],
   "source": [
    "# 2) What is the output of the following code? \n",
    "\n",
    "# str = \"pynative\"\n",
    "# print (str[1:3])\n",
    "\n",
    "# a) py\n",
    "# b) yn\n",
    "# c) pyn\n",
    "# d) yna"
   ]
  },
  {
   "cell_type": "code",
   "execution_count": null,
   "metadata": {},
   "outputs": [],
   "source": [
    "#Answer: b) Remember, the index always starts from 0. Therefore, str [1 : 3] is “yn”"
   ]
  },
  {
   "cell_type": "code",
   "execution_count": null,
   "metadata": {},
   "outputs": [],
   "source": [
    "# 3) What is the output of the following code? \n",
    "\n",
    "# var= \"James Bond\"\n",
    "# print(var[2::-1])\n",
    "\n",
    "# a) Jam\n",
    "# b) dno\n",
    "# c) maJ\n",
    "# d) dnoB semaJ"
   ]
  },
  {
   "cell_type": "code",
   "execution_count": null,
   "metadata": {},
   "outputs": [],
   "source": [
    "#Answer c) Pick a range of items starting in the reverse direction starting from index 2 with step 1.\n"
   ]
  },
  {
   "cell_type": "code",
   "execution_count": null,
   "metadata": {},
   "outputs": [],
   "source": [
    "# 4) What is the output of the following code? \n",
    "\n",
    "# var = \"James\" * 2  * 3\n",
    "# print(var)\n",
    "\n",
    "# a) JamesJamesJamesJamesJamesJames\n",
    "# b) JamesJamesJamesJamesJames\n",
    "# c) Error: invalid syntax"
   ]
  },
  {
   "cell_type": "code",
   "execution_count": null,
   "metadata": {},
   "outputs": [],
   "source": [
    "# #Answer a) We can use * operator to repeat the string n number of times. \n",
    "# For example, in the above question, First, we repeated the string two times, \n",
    "# and again we repeated the output string three times. \n",
    "\n"
   ]
  },
  {
   "cell_type": "code",
   "execution_count": null,
   "metadata": {},
   "outputs": [],
   "source": [
    "# 5) Get rid of the non fruit item: \n",
    "\n",
    "# sweets = ['apple', 'bananas', 'cantelopes', 'donut']\n"
   ]
  },
  {
   "cell_type": "code",
   "execution_count": null,
   "metadata": {},
   "outputs": [],
   "source": [
    "# sweets = ['apple', 'bananas', 'cantelopes', 'donut']"
   ]
  },
  {
   "cell_type": "code",
   "execution_count": null,
   "metadata": {},
   "outputs": [],
   "source": [
    "# Answer (either of the following)\n",
    "\n",
    "# sweets.pop()\n",
    "# sweets.pop(-1)"
   ]
  },
  {
   "cell_type": "code",
   "execution_count": null,
   "metadata": {},
   "outputs": [],
   "source": [
    "# 6) Find \"santa\" in the variable \"house\" \n",
    "\n",
    "\n",
    "# room1=['gabe', 'greg']\n",
    "# room2=['michelle','santa','stacey']\n",
    "# room3=['adam','sam', 'melissa']\n",
    "# house= [room2, room1, room3] \n"
   ]
  },
  {
   "cell_type": "code",
   "execution_count": null,
   "metadata": {},
   "outputs": [],
   "source": [
    "# # Answer \n",
    "\n",
    "# house[0][1]"
   ]
  },
  {
   "cell_type": "code",
   "execution_count": null,
   "metadata": {},
   "outputs": [],
   "source": [
    "# 7) A dictionary is the best way to store a sequence of events like a recipe.\n",
    "\n",
    "# True or false? \n",
    "\n",
    "# Answer: False, it should be a Tuple because it's an ordered sequence of immutable (non-changable objects \n",
    "    \n"
   ]
  },
  {
   "cell_type": "code",
   "execution_count": null,
   "metadata": {},
   "outputs": [],
   "source": [
    "# 8) Remove all dupes \n",
    "# names = ['mary', 'bob', 'jessica', 'pierre', 'bob', 'jennifer', 'chris', \n",
    "#          'christina', 'tina', 'mary', 'tina', 'bob', 'michelle','jennifer']"
   ]
  },
  {
   "cell_type": "code",
   "execution_count": null,
   "metadata": {},
   "outputs": [],
   "source": [
    "# #Answer \n",
    "# set(names)"
   ]
  },
  {
   "cell_type": "code",
   "execution_count": null,
   "metadata": {},
   "outputs": [],
   "source": [
    "# 9) What's the difference between = and == ? "
   ]
  },
  {
   "cell_type": "code",
   "execution_count": null,
   "metadata": {},
   "outputs": [],
   "source": [
    "# Answer:  == is for comparing values, = is for assigning values"
   ]
  }
 ],
 "metadata": {
  "kernelspec": {
   "display_name": "Python 3",
   "language": "python",
   "name": "python3"
  },
  "language_info": {
   "codemirror_mode": {
    "name": "ipython",
    "version": 3
   },
   "file_extension": ".py",
   "mimetype": "text/x-python",
   "name": "python",
   "nbconvert_exporter": "python",
   "pygments_lexer": "ipython3",
   "version": "3.7.3"
  }
 },
 "nbformat": 4,
 "nbformat_minor": 2
}
