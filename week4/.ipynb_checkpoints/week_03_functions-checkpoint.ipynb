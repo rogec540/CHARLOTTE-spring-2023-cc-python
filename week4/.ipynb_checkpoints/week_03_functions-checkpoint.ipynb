{
 "cells": [
  {
   "cell_type": "markdown",
   "metadata": {},
   "source": [
    "### Functions  \n",
    "\n",
    "A function is a block of organized, reusable code that is used to perform a single, related action. ... As you already know, Python gives you many built-in functions like print(), etc. but you can also create your own functions. These functions are called user-defined functions."
   ]
  },
  {
   "cell_type": "code",
   "execution_count": null,
   "metadata": {},
   "outputs": [],
   "source": [
    "# Scope \n",
    "\n",
    "# Name references search (at most) four scopes, these are:\n",
    "\n",
    "# Local\n",
    "# Enclosing functions\n",
    "# Global \n",
    "# Built in (to python)"
   ]
  },
  {
   "cell_type": "code",
   "execution_count": 2,
   "metadata": {},
   "outputs": [],
   "source": [
    "def greeting():\n",
    "    print('Hello World!')"
   ]
  },
  {
   "cell_type": "code",
   "execution_count": 3,
   "metadata": {},
   "outputs": [
    {
     "name": "stdout",
     "output_type": "stream",
     "text": [
      "Hello World!\n"
     ]
    }
   ],
   "source": [
    "greeting() #need parenthesis to run the function "
   ]
  },
  {
   "cell_type": "code",
   "execution_count": 4,
   "metadata": {},
   "outputs": [],
   "source": [
    "def greeting():\n",
    "    '''This is a greetings function'''\n",
    "    print('Hello World!')"
   ]
  },
  {
   "cell_type": "code",
   "execution_count": 5,
   "metadata": {},
   "outputs": [
    {
     "name": "stdout",
     "output_type": "stream",
     "text": [
      "Help on function greeting in module __main__:\n",
      "\n",
      "greeting()\n",
      "    This is a greetings function\n",
      "\n"
     ]
    }
   ],
   "source": [
    "help(greeting)"
   ]
  },
  {
   "cell_type": "code",
   "execution_count": 6,
   "metadata": {},
   "outputs": [],
   "source": [
    "#global \n",
    "name = 'GLOBAL'\n",
    "\n",
    "def greeting():\n",
    "    \n",
    "    #englosing \n",
    "    name = 'Shirley' # if comment this out, it will go to global\n",
    "    # this is defined within an enclosing function \n",
    "    \n",
    "    def hello(): #function inside a function \n",
    "    #local \n",
    "       # name = 'LOCAL' # comment this out, this will look for local first, if not there, it will skip to enclosing function\n",
    "        print('Hello '+name)\n",
    "    hello()\n"
   ]
  },
  {
   "cell_type": "code",
   "execution_count": 7,
   "metadata": {},
   "outputs": [
    {
     "name": "stdout",
     "output_type": "stream",
     "text": [
      "Hello Shirley\n"
     ]
    }
   ],
   "source": [
    "greeting()"
   ]
  },
  {
   "cell_type": "code",
   "execution_count": 8,
   "metadata": {},
   "outputs": [
    {
     "data": {
      "text/plain": [
       "<function len(obj, /)>"
      ]
     },
     "execution_count": 8,
     "metadata": {},
     "output_type": "execute_result"
    }
   ],
   "source": [
    "len # built in (this is above global)"
   ]
  },
  {
   "cell_type": "code",
   "execution_count": 9,
   "metadata": {},
   "outputs": [],
   "source": [
    "# Global \n",
    "\n",
    "name = 'GLOBAL'\n",
    "\n",
    "def scope(): \n",
    "    \n",
    "    #enclosing \n",
    "\n",
    "    name = 'ENCLOSING'\n",
    "    \n",
    "    def call(): \n",
    "        \n",
    "        #local \n",
    "        \n",
    "        name = 'LOCAL'\n",
    "\n",
    "        print('Hello '+name)\n",
    "    \n",
    "    call()"
   ]
  },
  {
   "cell_type": "code",
   "execution_count": 10,
   "metadata": {},
   "outputs": [
    {
     "name": "stdout",
     "output_type": "stream",
     "text": [
      "Hello LOCAL\n"
     ]
    }
   ],
   "source": [
    "scope()"
   ]
  },
  {
   "cell_type": "code",
   "execution_count": 11,
   "metadata": {},
   "outputs": [],
   "source": [
    "x = 50 \n",
    "\n",
    "def assign(x):\n",
    "    print (f'X is {x}')\n",
    "    "
   ]
  },
  {
   "cell_type": "code",
   "execution_count": 12,
   "metadata": {},
   "outputs": [
    {
     "name": "stdout",
     "output_type": "stream",
     "text": [
      "X is 50\n"
     ]
    }
   ],
   "source": [
    "assign(x)"
   ]
  },
  {
   "cell_type": "code",
   "execution_count": 13,
   "metadata": {},
   "outputs": [],
   "source": [
    "x = 50 \n",
    "\n",
    "def assign(x):\n",
    "    print (f'X is {x}')\n",
    "\n",
    "    x = 100\n",
    "    \n",
    "    print (f'Reassign X to {x}') # only happens within the function, not at higher scope"
   ]
  },
  {
   "cell_type": "code",
   "execution_count": 14,
   "metadata": {},
   "outputs": [
    {
     "name": "stdout",
     "output_type": "stream",
     "text": [
      "X is 50\n",
      "Reassign X to 100\n"
     ]
    }
   ],
   "source": [
    "assign(x)"
   ]
  },
  {
   "cell_type": "code",
   "execution_count": 15,
   "metadata": {},
   "outputs": [
    {
     "name": "stdout",
     "output_type": "stream",
     "text": [
      "50\n"
     ]
    }
   ],
   "source": [
    "print(x) # this is still the global because the reassignment only happens locally within the function"
   ]
  },
  {
   "cell_type": "code",
   "execution_count": 16,
   "metadata": {},
   "outputs": [],
   "source": [
    "x = 50 \n",
    "\n",
    "def assign():\n",
    "    global x\n",
    "    print (f'X is {x}')\n",
    "\n",
    "    x = 100\n",
    "    print (f'Reassign X to {x}') # only happens within the function, not at higher scope"
   ]
  },
  {
   "cell_type": "code",
   "execution_count": 17,
   "metadata": {},
   "outputs": [
    {
     "name": "stdout",
     "output_type": "stream",
     "text": [
      "X is 50\n",
      "Reassign X to 100\n"
     ]
    }
   ],
   "source": [
    "assign()"
   ]
  },
  {
   "cell_type": "code",
   "execution_count": 18,
   "metadata": {},
   "outputs": [],
   "source": [
    "# *args \n",
    "\n",
    "# *args treats input as a tuple "
   ]
  },
  {
   "cell_type": "code",
   "execution_count": 19,
   "metadata": {},
   "outputs": [],
   "source": [
    "\n",
    "def addfunc(a,b): \n",
    "    return sum((a,b))"
   ]
  },
  {
   "cell_type": "code",
   "execution_count": 20,
   "metadata": {},
   "outputs": [
    {
     "data": {
      "text/plain": [
       "12"
      ]
     },
     "execution_count": 20,
     "metadata": {},
     "output_type": "execute_result"
    }
   ],
   "source": [
    "addfunc(10,2)"
   ]
  },
  {
   "cell_type": "code",
   "execution_count": 21,
   "metadata": {},
   "outputs": [],
   "source": [
    "def addfunc(*args):\n",
    "    return sum(args)"
   ]
  },
  {
   "cell_type": "code",
   "execution_count": 22,
   "metadata": {},
   "outputs": [
    {
     "data": {
      "text/plain": [
       "13"
      ]
     },
     "execution_count": 22,
     "metadata": {},
     "output_type": "execute_result"
    }
   ],
   "source": [
    "addfunc(11,2)"
   ]
  },
  {
   "cell_type": "code",
   "execution_count": 23,
   "metadata": {},
   "outputs": [
    {
     "data": {
      "text/plain": [
       "21"
      ]
     },
     "execution_count": 23,
     "metadata": {},
     "output_type": "execute_result"
    }
   ],
   "source": [
    "addfunc(11,2,3,3,1,1)"
   ]
  },
  {
   "cell_type": "code",
   "execution_count": 24,
   "metadata": {},
   "outputs": [],
   "source": [
    "#for loop with fuction \n",
    "\n",
    "def greeting():\n",
    "    print('Hello World!')\n",
    "    \n"
   ]
  },
  {
   "cell_type": "code",
   "execution_count": 25,
   "metadata": {},
   "outputs": [
    {
     "name": "stdout",
     "output_type": "stream",
     "text": [
      "Hello World!\n",
      "Hello World!\n",
      "Hello World!\n"
     ]
    }
   ],
   "source": [
    "#for loop with function \n",
    "for x in range(3):\n",
    "    greeting()\n"
   ]
  },
  {
   "cell_type": "code",
   "execution_count": 26,
   "metadata": {},
   "outputs": [],
   "source": [
    "# functions with variables \n",
    "\n",
    "def greeting(name='Unknown'): #the unknown is default \n",
    "    print(f'Hello {name}')"
   ]
  },
  {
   "cell_type": "code",
   "execution_count": 27,
   "metadata": {},
   "outputs": [
    {
     "name": "stdout",
     "output_type": "stream",
     "text": [
      "Hello Shirley\n"
     ]
    }
   ],
   "source": [
    "greeting('Shirley')"
   ]
  },
  {
   "cell_type": "code",
   "execution_count": 28,
   "metadata": {},
   "outputs": [],
   "source": [
    "# **kwargs \n",
    "\n",
    "# key word arguments, builds out a dict of key,value  "
   ]
  },
  {
   "cell_type": "code",
   "execution_count": 29,
   "metadata": {},
   "outputs": [],
   "source": [
    "def identity(**kwargs): \n",
    "    if 'name' in kwargs:\n",
    "        print ('My name is {}'.format(kwargs['name']))\n",
    "    else: \n",
    "        print ('Unknown')"
   ]
  },
  {
   "cell_type": "code",
   "execution_count": 30,
   "metadata": {},
   "outputs": [
    {
     "name": "stdout",
     "output_type": "stream",
     "text": [
      "My name is Shirley\n"
     ]
    }
   ],
   "source": [
    "identity(name = 'Shirley', location = 'NYC')"
   ]
  },
  {
   "cell_type": "code",
   "execution_count": 31,
   "metadata": {},
   "outputs": [],
   "source": [
    "# check if a number in the list is even \n",
    "\n",
    "def check_list(num_list):\n",
    "    \n",
    "    for num in num_list:\n",
    "        if num % 2 == 0: \n",
    "            return True \n",
    "        else: \n",
    "            pass \n",
    "        # but what if you want it to return false? "
   ]
  },
  {
   "cell_type": "code",
   "execution_count": 32,
   "metadata": {},
   "outputs": [
    {
     "data": {
      "text/plain": [
       "True"
      ]
     },
     "execution_count": 32,
     "metadata": {},
     "output_type": "execute_result"
    }
   ],
   "source": [
    "check_list([2,3,5])"
   ]
  },
  {
   "cell_type": "code",
   "execution_count": 33,
   "metadata": {},
   "outputs": [],
   "source": [
    "check_list([1,3,5])\n",
    "# returns nothing "
   ]
  },
  {
   "cell_type": "code",
   "execution_count": 34,
   "metadata": {},
   "outputs": [],
   "source": [
    "def check_list(num_list):\n",
    "    \n",
    "    for num in num_list:\n",
    "        if num % 2 == 0: \n",
    "            return True \n",
    "        else: \n",
    "            pass\n",
    "    return False # make sure this is aligned with for loop, you want it to loop all the way, not stop half way "
   ]
  },
  {
   "cell_type": "code",
   "execution_count": 35,
   "metadata": {},
   "outputs": [
    {
     "data": {
      "text/plain": [
       "False"
      ]
     },
     "execution_count": 35,
     "metadata": {},
     "output_type": "execute_result"
    }
   ],
   "source": [
    "check_list([1,3,5])"
   ]
  },
  {
   "cell_type": "code",
   "execution_count": 36,
   "metadata": {},
   "outputs": [],
   "source": [
    "def check_even_list(num_list):\n",
    "    # return all th eeven numbers in the list \n",
    "    \n",
    "    # placeholder variables \n",
    "    \n",
    "    even_numbers = []\n",
    "    \n",
    "    for num in num_list:\n",
    "        if num % 2 == 0: \n",
    "            even_numbers.append(num)\n",
    "        else: \n",
    "            pass\n",
    "        \n",
    "    return even_numbers "
   ]
  },
  {
   "cell_type": "code",
   "execution_count": 37,
   "metadata": {},
   "outputs": [
    {
     "data": {
      "text/plain": [
       "[2]"
      ]
     },
     "execution_count": 37,
     "metadata": {},
     "output_type": "execute_result"
    }
   ],
   "source": [
    "check_even_list([1,2,3,5])"
   ]
  },
  {
   "cell_type": "code",
   "execution_count": 38,
   "metadata": {},
   "outputs": [
    {
     "name": "stdout",
     "output_type": "stream",
     "text": [
      "leuns\n"
     ]
    }
   ],
   "source": [
    "# A multi-line docstring example, in a function\n",
    "\n",
    "def createUserID(last, first):\n",
    "    \"\"\"\n",
    "    Given a full name, return a corresponding user ID. \n",
    "  \n",
    "    The user ID is a concatenation of the first\n",
    "    four letters of the last name followed by the\n",
    "    first letter of the first name.\n",
    "  \n",
    "    Parameters: \n",
    "    last (string): Last name\n",
    "    first (string): First name\n",
    "  \n",
    "    Returns: \n",
    "    string: User ID\n",
    "    \"\"\"\n",
    "    \n",
    "    return(last[0:4] + first[0])\n",
    "\n",
    "userID = createUserID('leung', 'shirley')\n",
    "print(userID)"
   ]
  },
  {
   "cell_type": "code",
   "execution_count": 39,
   "metadata": {},
   "outputs": [],
   "source": [
    "def check_score(points):\n",
    "    \n",
    "    highest_score = 0 # start off at 0 and compare to scores \n",
    "    winner = ''\n",
    "    \n",
    "    for player,score in score_board:\n",
    "        if score > highest_score:\n",
    "            highest_score = score\n",
    "            winner = player\n",
    "        else: \n",
    "            pass\n",
    "    \n",
    "    return (winner, highest_score)"
   ]
  },
  {
   "cell_type": "code",
   "execution_count": 40,
   "metadata": {},
   "outputs": [],
   "source": [
    "#tuple unpacking with functions \n",
    "\n",
    "score_board = [('Jason', 344), ('Sophie', 433), ('Abigail', 322)]"
   ]
  },
  {
   "cell_type": "code",
   "execution_count": 41,
   "metadata": {},
   "outputs": [
    {
     "data": {
      "text/plain": [
       "('Sophie', 433)"
      ]
     },
     "execution_count": 41,
     "metadata": {},
     "output_type": "execute_result"
    }
   ],
   "source": [
    "check_score(score_board)"
   ]
  },
  {
   "cell_type": "code",
   "execution_count": 42,
   "metadata": {},
   "outputs": [],
   "source": [
    "winner = check_score(score_board)"
   ]
  },
  {
   "cell_type": "code",
   "execution_count": 43,
   "metadata": {},
   "outputs": [
    {
     "data": {
      "text/plain": [
       "('Sophie', 433)"
      ]
     },
     "execution_count": 43,
     "metadata": {},
     "output_type": "execute_result"
    }
   ],
   "source": [
    "winner"
   ]
  },
  {
   "cell_type": "code",
   "execution_count": 44,
   "metadata": {},
   "outputs": [],
   "source": [
    "winner, score = check_score(score_board)"
   ]
  },
  {
   "cell_type": "code",
   "execution_count": 45,
   "metadata": {},
   "outputs": [
    {
     "data": {
      "text/plain": [
       "'Sophie'"
      ]
     },
     "execution_count": 45,
     "metadata": {},
     "output_type": "execute_result"
    }
   ],
   "source": [
    "winner"
   ]
  },
  {
   "cell_type": "code",
   "execution_count": 46,
   "metadata": {},
   "outputs": [
    {
     "data": {
      "text/plain": [
       "433"
      ]
     },
     "execution_count": 46,
     "metadata": {},
     "output_type": "execute_result"
    }
   ],
   "source": [
    "score"
   ]
  },
  {
   "cell_type": "markdown",
   "metadata": {},
   "source": [
    "### Methods   \n",
    "\n",
    "Methods are functions built into objects in python. Use the tab. "
   ]
  },
  {
   "cell_type": "code",
   "execution_count": 47,
   "metadata": {},
   "outputs": [],
   "source": [
    "# random library (you can explore all the functions)\n",
    "# https://docs.python.org/3/library/random.html\n",
    "\n",
    "from random import shuffle "
   ]
  },
  {
   "cell_type": "code",
   "execution_count": 48,
   "metadata": {},
   "outputs": [],
   "source": [
    "listofstudents = [\"abby\", \"becky\", \"chad\", \"derek\", \"elaine\"]"
   ]
  },
  {
   "cell_type": "code",
   "execution_count": 49,
   "metadata": {},
   "outputs": [],
   "source": [
    "shuffle(listofstudents)"
   ]
  },
  {
   "cell_type": "code",
   "execution_count": 50,
   "metadata": {},
   "outputs": [
    {
     "data": {
      "text/plain": [
       "['elaine', 'chad', 'becky', 'derek', 'abby']"
      ]
     },
     "execution_count": 50,
     "metadata": {},
     "output_type": "execute_result"
    }
   ],
   "source": [
    "listofstudents"
   ]
  },
  {
   "cell_type": "code",
   "execution_count": 51,
   "metadata": {},
   "outputs": [],
   "source": [
    "def shuffle_students(listofstudents):\n",
    "    shuffle(listofstudents)\n",
    "    return listofstudents "
   ]
  },
  {
   "cell_type": "code",
   "execution_count": 52,
   "metadata": {},
   "outputs": [],
   "source": [
    "results = shuffle_students(listofstudents)"
   ]
  },
  {
   "cell_type": "code",
   "execution_count": 53,
   "metadata": {},
   "outputs": [
    {
     "data": {
      "text/plain": [
       "['elaine', 'derek', 'abby', 'becky', 'chad']"
      ]
     },
     "execution_count": 53,
     "metadata": {},
     "output_type": "execute_result"
    }
   ],
   "source": [
    "results"
   ]
  },
  {
   "cell_type": "code",
   "execution_count": 54,
   "metadata": {},
   "outputs": [],
   "source": [
    "#grab a random number \n",
    "\n",
    "from random import randint "
   ]
  },
  {
   "cell_type": "code",
   "execution_count": 55,
   "metadata": {},
   "outputs": [
    {
     "data": {
      "text/plain": [
       "762"
      ]
     },
     "execution_count": 55,
     "metadata": {},
     "output_type": "execute_result"
    }
   ],
   "source": [
    "randint(0,1000)"
   ]
  },
  {
   "cell_type": "code",
   "execution_count": 56,
   "metadata": {},
   "outputs": [],
   "source": [
    "# map () "
   ]
  },
  {
   "cell_type": "code",
   "execution_count": 57,
   "metadata": {},
   "outputs": [],
   "source": [
    "def double(number): \n",
    "    return number*2"
   ]
  },
  {
   "cell_type": "code",
   "execution_count": 58,
   "metadata": {},
   "outputs": [],
   "source": [
    "num_list = [1,2,3,4]"
   ]
  },
  {
   "cell_type": "code",
   "execution_count": 59,
   "metadata": {},
   "outputs": [
    {
     "data": {
      "text/plain": [
       "<map at 0x7fefc07fb470>"
      ]
     },
     "execution_count": 59,
     "metadata": {},
     "output_type": "execute_result"
    }
   ],
   "source": [
    "map(double,num_list) #location on memory, need to iterate "
   ]
  },
  {
   "cell_type": "code",
   "execution_count": 60,
   "metadata": {},
   "outputs": [
    {
     "name": "stdout",
     "output_type": "stream",
     "text": [
      "2\n",
      "4\n",
      "6\n",
      "8\n"
     ]
    }
   ],
   "source": [
    "for num in map(double,num_list):\n",
    "    print(num)"
   ]
  },
  {
   "cell_type": "code",
   "execution_count": 61,
   "metadata": {},
   "outputs": [
    {
     "data": {
      "text/plain": [
       "[2, 4, 6, 8]"
      ]
     },
     "execution_count": 61,
     "metadata": {},
     "output_type": "execute_result"
    }
   ],
   "source": [
    "list(map(double,num_list))"
   ]
  },
  {
   "cell_type": "code",
   "execution_count": 62,
   "metadata": {},
   "outputs": [],
   "source": [
    "def alphabets(string): \n",
    "    if string[0] == 'a': \n",
    "        return string\n",
    "    else: \n",
    "        return 'Does not begin with A'"
   ]
  },
  {
   "cell_type": "code",
   "execution_count": 63,
   "metadata": {},
   "outputs": [],
   "source": [
    "names = ['abby','charles','andrew','brad','chelsea']"
   ]
  },
  {
   "cell_type": "code",
   "execution_count": 64,
   "metadata": {},
   "outputs": [
    {
     "data": {
      "text/plain": [
       "['abby',\n",
       " 'Does not begin with A',\n",
       " 'andrew',\n",
       " 'Does not begin with A',\n",
       " 'Does not begin with A']"
      ]
     },
     "execution_count": 64,
     "metadata": {},
     "output_type": "execute_result"
    }
   ],
   "source": [
    "list(map(alphabets,names)) #alphabet is getting passed in as an argument "
   ]
  },
  {
   "cell_type": "code",
   "execution_count": 65,
   "metadata": {},
   "outputs": [],
   "source": [
    "# filter function \n",
    "\n",
    "def even(num):\n",
    "    return num%2 == 0"
   ]
  },
  {
   "cell_type": "code",
   "execution_count": 66,
   "metadata": {},
   "outputs": [],
   "source": [
    "my_nums = [0,1,2,3,4,5,6,7,8,9]"
   ]
  },
  {
   "cell_type": "code",
   "execution_count": 67,
   "metadata": {},
   "outputs": [
    {
     "data": {
      "text/plain": [
       "[0, 2, 4, 6, 8]"
      ]
     },
     "execution_count": 67,
     "metadata": {},
     "output_type": "execute_result"
    }
   ],
   "source": [
    "list(filter(even,my_nums))"
   ]
  },
  {
   "cell_type": "code",
   "execution_count": 68,
   "metadata": {},
   "outputs": [
    {
     "name": "stdout",
     "output_type": "stream",
     "text": [
      "0\n",
      "2\n",
      "4\n",
      "6\n",
      "8\n"
     ]
    }
   ],
   "source": [
    "for num in filter(even,my_nums): \n",
    "    print(num)"
   ]
  },
  {
   "cell_type": "code",
   "execution_count": 69,
   "metadata": {},
   "outputs": [],
   "source": [
    "# lambdas are anonymous functions (don't need a name) "
   ]
  },
  {
   "cell_type": "code",
   "execution_count": 70,
   "metadata": {},
   "outputs": [],
   "source": [
    "def double(number): \n",
    "    return number*2"
   ]
  },
  {
   "cell_type": "code",
   "execution_count": 71,
   "metadata": {},
   "outputs": [],
   "source": [
    "def double(number): return number*2 # 1 line "
   ]
  },
  {
   "cell_type": "code",
   "execution_count": 72,
   "metadata": {},
   "outputs": [],
   "source": [
    "double = lambda number:number*2 # this is a lambda function "
   ]
  },
  {
   "cell_type": "code",
   "execution_count": 73,
   "metadata": {},
   "outputs": [
    {
     "data": {
      "text/plain": [
       "20"
      ]
     },
     "execution_count": 73,
     "metadata": {},
     "output_type": "execute_result"
    }
   ],
   "source": [
    "double(10)"
   ]
  },
  {
   "cell_type": "code",
   "execution_count": 74,
   "metadata": {},
   "outputs": [
    {
     "data": {
      "text/plain": [
       "[2, 4, 6, 8]"
      ]
     },
     "execution_count": 74,
     "metadata": {},
     "output_type": "execute_result"
    }
   ],
   "source": [
    "list(map(lambda number:number*2, num_list))"
   ]
  },
  {
   "cell_type": "code",
   "execution_count": 75,
   "metadata": {},
   "outputs": [
    {
     "data": {
      "text/plain": [
       "[0, 2, 4, 6, 8]"
      ]
     },
     "execution_count": 75,
     "metadata": {},
     "output_type": "execute_result"
    }
   ],
   "source": [
    "list(filter(lambda num:num%2 == 0, my_nums))"
   ]
  },
  {
   "cell_type": "code",
   "execution_count": 76,
   "metadata": {},
   "outputs": [
    {
     "data": {
      "text/plain": [
       "['abby', 'charles', 'andrew', 'brad', 'chelsea']"
      ]
     },
     "execution_count": 76,
     "metadata": {},
     "output_type": "execute_result"
    }
   ],
   "source": [
    "names"
   ]
  },
  {
   "cell_type": "code",
   "execution_count": 77,
   "metadata": {},
   "outputs": [
    {
     "data": {
      "text/plain": [
       "['a', 'c', 'a', 'b', 'c']"
      ]
     },
     "execution_count": 77,
     "metadata": {},
     "output_type": "execute_result"
    }
   ],
   "source": [
    "list(map(lambda name:name[0], names)) # get the first letters "
   ]
  },
  {
   "cell_type": "code",
   "execution_count": 78,
   "metadata": {},
   "outputs": [
    {
     "data": {
      "text/plain": [
       "['ybba', 'selrahc', 'werdna', 'darb', 'aeslehc']"
      ]
     },
     "execution_count": 78,
     "metadata": {},
     "output_type": "execute_result"
    }
   ],
   "source": [
    "list(map(lambda name:name[::-1], names)) # get it backwords"
   ]
  },
  {
   "cell_type": "code",
   "execution_count": 79,
   "metadata": {},
   "outputs": [
    {
     "name": "stdout",
     "output_type": "stream",
     "text": [
      "[5, 7, 97, 77, 23, 73, 61, 65]\n"
     ]
    }
   ],
   "source": [
    "# filter() with lambda()\n",
    "my_list = [5, 7, 22, 97, 54, 62, 77, 23, 73, 61, 0, 32, 65]\n",
    " \n",
    "final_list = list(filter(lambda x: (x%2 != 0) , my_list))\n",
    "print(final_list)"
   ]
  },
  {
   "cell_type": "code",
   "execution_count": 80,
   "metadata": {},
   "outputs": [
    {
     "name": "stdout",
     "output_type": "stream",
     "text": [
      "[10, 14, 44, 194, 108, 124, 154, 46, 146, 122, 0, 64, 130]\n"
     ]
    }
   ],
   "source": [
    "# map() with lambda()\n",
    "# to get double of a list.\n",
    "my_list = [5, 7, 22, 97, 54, 62, 77, 23, 73, 61, 0, 32, 65]\n",
    " \n",
    "final_list = list(map(lambda x: x*2, my_list))\n",
    "print(final_list)"
   ]
  },
  {
   "cell_type": "code",
   "execution_count": 81,
   "metadata": {},
   "outputs": [
    {
     "name": "stdout",
     "output_type": "stream",
     "text": [
      "['DOG', 'CAT', 'PARROT', 'RABBIT']\n"
     ]
    }
   ],
   "source": [
    "# use of lambda() function\n",
    "# with map() function\n",
    "animals = ['dog', 'cat', 'parrot', 'rabbit']\n",
    " \n",
    "# here we intend to change all animal names\n",
    "# to upper case and return the same\n",
    "uppered_animals = list(map(lambda animal: str.upper(animal), animals))\n",
    " \n",
    "print(uppered_animals)"
   ]
  },
  {
   "cell_type": "markdown",
   "metadata": {},
   "source": [
    "### Error handling\n",
    "\n",
    "    try: \n",
    "       This is an attempt (may lead to an error)...\n",
    "       ...\n",
    "    except: \n",
    "       This will execute if there is an error in try \n",
    "       ...\n",
    "    else:\n",
    "       If there is no exception (or error) then execute this block \n",
    "       ... \n",
    "    finally\n",
    "        This will execute at the end no matter what even if there is an error "
   ]
  },
  {
   "cell_type": "code",
   "execution_count": 82,
   "metadata": {},
   "outputs": [],
   "source": [
    "# errors and exception handling \n",
    "\n",
    "def enterNumber():\n",
    "    try:\n",
    "        value = int(input(\"Please enter an number: \"))\n",
    "    except:\n",
    "        print(\"Looks like you did not enter an number!\")"
   ]
  },
  {
   "cell_type": "code",
   "execution_count": 83,
   "metadata": {},
   "outputs": [
    {
     "name": "stdout",
     "output_type": "stream",
     "text": [
      "Please enter an number: a\n",
      "Looks like you did not enter an number!\n"
     ]
    }
   ],
   "source": [
    "enterNumber()"
   ]
  },
  {
   "cell_type": "code",
   "execution_count": 84,
   "metadata": {},
   "outputs": [],
   "source": [
    "def enterNumber():\n",
    "    try:\n",
    "        value = int(input(\"Please enter an number: \"))\n",
    "    except:\n",
    "        print(\"Looks like you did not enter an number!\")\n",
    "        value = int(input(\"Not a number, Please enter an number: \"))\n",
    "    finally:\n",
    "         print(\"End\")\n"
   ]
  },
  {
   "cell_type": "code",
   "execution_count": 85,
   "metadata": {},
   "outputs": [],
   "source": [
    "## enterNumber() # will only do one check, to continuously do it see below "
   ]
  },
  {
   "cell_type": "code",
   "execution_count": 86,
   "metadata": {},
   "outputs": [],
   "source": [
    "def enterNumber():\n",
    "    while True: # 1) while true \n",
    "        try:  # 2) run this block of code \n",
    "            value = int(input(\"Please enter an number: \"))\n",
    "        except: # 3) if exception \n",
    "            print(\"Looks like you did not enter an number!\")\n",
    "            continue # 4) continue \n",
    "        else: #3b) else, if there is no exception \n",
    "            print ('You entered a number!')\n",
    "            break  # break out of enclosing loop and ends it \n",
    "        finally: # end \n",
    "            print ('End') # best not to mix up else and finally because finally will still run \n"
   ]
  },
  {
   "cell_type": "code",
   "execution_count": 87,
   "metadata": {},
   "outputs": [
    {
     "name": "stdout",
     "output_type": "stream",
     "text": [
      "Please enter an number: d\n",
      "Looks like you did not enter an number!\n",
      "End\n",
      "Please enter an number: 7\n",
      "You entered a number!\n",
      "End\n"
     ]
    }
   ],
   "source": [
    "enterNumber()"
   ]
  },
  {
   "cell_type": "code",
   "execution_count": null,
   "metadata": {},
   "outputs": [],
   "source": []
  }
 ],
 "metadata": {
  "kernelspec": {
   "display_name": "Python 3",
   "language": "python",
   "name": "python3"
  },
  "language_info": {
   "codemirror_mode": {
    "name": "ipython",
    "version": 3
   },
   "file_extension": ".py",
   "mimetype": "text/x-python",
   "name": "python",
   "nbconvert_exporter": "python",
   "pygments_lexer": "ipython3",
   "version": "3.7.3"
  }
 },
 "nbformat": 4,
 "nbformat_minor": 2
}
