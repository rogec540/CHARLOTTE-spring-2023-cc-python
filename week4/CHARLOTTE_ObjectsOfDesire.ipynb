{
 "cells": [
  {
   "cell_type": "markdown",
   "metadata": {},
   "source": [
    "Create a class object of something that you love. Write at least 3 methods for it. Include some attributes.\n",
    "\n",
    "Items you love can be categorical: \n",
    "\n",
    "* Food  \n",
    "* Pets \n",
    "* Vehicles \n",
    "* Places \n",
    "* Activities \n",
    "* Things \n",
    "\n",
    "See examples below "
   ]
  },
  {
   "cell_type": "code",
   "execution_count": 10,
   "metadata": {},
   "outputs": [],
   "source": [
    "class Bagel:\n",
    "\n",
    "    def __init__(self, type, filling1, filling2):\n",
    "        self.type = type\n",
    "        self.filling1 = filling1\n",
    "        self.filling2 = filling2\n",
    "\n",
    "    def fillingOrder(self):\n",
    "        print(\"{}, {}\".format(self.filling1, self.filling2))\n",
    "    \n",
    "    def toasted(self):\n",
    "        print(\"Can I get this {} bagel toasted?\".format(self.type))\n",
    "\n",
    "    def extraFilling(self, filling):\n",
    "        print(\"Can I get extra {} on my {} bagel?\".format(filling, self.type))"
   ]
  },
  {
   "cell_type": "code",
   "execution_count": 11,
   "metadata": {},
   "outputs": [],
   "source": [
    "breakfast_bagel = Bagel(\"sesame\", \"egg\", \"cheese\")"
   ]
  },
  {
   "cell_type": "code",
   "execution_count": 12,
   "metadata": {},
   "outputs": [
    {
     "data": {
      "text/plain": [
       "'egg'"
      ]
     },
     "execution_count": 12,
     "metadata": {},
     "output_type": "execute_result"
    }
   ],
   "source": [
    "breakfast_bagel.filling1"
   ]
  },
  {
   "cell_type": "code",
   "execution_count": 13,
   "metadata": {},
   "outputs": [
    {
     "name": "stdout",
     "output_type": "stream",
     "text": [
      "Can I get this sesame bagel toasted?\n"
     ]
    }
   ],
   "source": [
    "breakfast_bagel.toasted()"
   ]
  },
  {
   "cell_type": "code",
   "execution_count": 14,
   "metadata": {},
   "outputs": [
    {
     "name": "stdout",
     "output_type": "stream",
     "text": [
      "Can I get extra cheese on my sesame bagel?\n"
     ]
    }
   ],
   "source": [
    "breakfast_bagel.extraFilling('cheese')"
   ]
  }
 ],
 "metadata": {
  "kernelspec": {
   "display_name": "Python 3",
   "language": "python",
   "name": "python3"
  },
  "language_info": {
   "codemirror_mode": {
    "name": "ipython",
    "version": 3
   },
   "file_extension": ".py",
   "mimetype": "text/x-python",
   "name": "python",
   "nbconvert_exporter": "python",
   "pygments_lexer": "ipython3",
   "version": "3.10.8"
  },
  "vscode": {
   "interpreter": {
    "hash": "8f3a7e663eb92fa8517cce64c292d61a61e982bac11ccc283304d602fefb4d22"
   }
  }
 },
 "nbformat": 4,
 "nbformat_minor": 2
}
